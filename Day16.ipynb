{
 "cells": [
  {
   "cell_type": "markdown",
   "metadata": {},
   "source": [
    "# Exercises: Day 16\n",
    "\n",
    "1. Get the current day, month, year, hour, minute and timestamp from datetime module\n",
    "\n",
    "eg. \n",
    "from datetime import datetime\n",
    "now = datetime.now()\n",
    "print(now)\n"
   ]
  },
  {
   "cell_type": "code",
   "execution_count": 1,
   "metadata": {},
   "outputs": [
    {
     "name": "stdout",
     "output_type": "stream",
     "text": [
      "2025-03-19 10:40:14.470648\n"
     ]
    }
   ],
   "source": [
    "from datetime import datetime \n",
    "now = datetime.now()\n",
    "print(now)"
   ]
  },
  {
   "cell_type": "markdown",
   "metadata": {},
   "source": [
    "2. Format the current date using this format: \"%m/%d/%Y, %H:%M:%S\")\n"
   ]
  },
  {
   "cell_type": "code",
   "execution_count": 2,
   "metadata": {},
   "outputs": [
    {
     "name": "stdout",
     "output_type": "stream",
     "text": [
      "03/19/2025, 10:40:14\n"
     ]
    }
   ],
   "source": [
    "time_one = now.strftime(\"%m/%d/%Y, %H:%M:%S\")\n",
    "print(time_one)"
   ]
  },
  {
   "cell_type": "markdown",
   "metadata": {},
   "source": [
    "3. Today is 5 December, 2019. Change this time string to time."
   ]
  },
  {
   "cell_type": "code",
   "execution_count": 3,
   "metadata": {},
   "outputs": [
    {
     "name": "stdout",
     "output_type": "stream",
     "text": [
      "2019-12-05\n"
     ]
    }
   ],
   "source": [
    "from datetime import date\n",
    "d = date(2019, 12, 5)\n",
    "print(d)"
   ]
  },
  {
   "cell_type": "markdown",
   "metadata": {},
   "source": [
    "4. Calculate the time difference between now and new year.\n"
   ]
  },
  {
   "cell_type": "code",
   "execution_count": 8,
   "metadata": {},
   "outputs": [
    {
     "name": "stdout",
     "output_type": "stream",
     "text": [
      "Time until New Year: 287 days, 13 hours, 5 minutes, 30 seconds.\n"
     ]
    }
   ],
   "source": [
    "from datetime import datetime,date\n",
    "now = datetime.now()\n",
    "\n",
    "new_year = datetime(year=now.year + 1, month=1, day=1)\n",
    "\n",
    "time_difference = new_year - now\n",
    "\n",
    "days = time_difference.days\n",
    "seconds = time_difference.seconds\n",
    "hours = seconds // 3600\n",
    "minutes = (seconds % 3600) // 60\n",
    "secs = seconds % 60\n",
    "\n",
    "print(f\"Time until New Year: {days} days, {hours} hours, {minutes} minutes, {secs} seconds.\")\n",
    "\n"
   ]
  },
  {
   "cell_type": "markdown",
   "metadata": {},
   "source": [
    "5. Calculate the time difference between 1 January 1970 and now."
   ]
  },
  {
   "cell_type": "code",
   "execution_count": 9,
   "metadata": {},
   "outputs": [
    {
     "name": "stdout",
     "output_type": "stream",
     "text": [
      "Time since 1 January 1970:\n",
      "  20166 days\n",
      "  55 years (approx)\n",
      "  1,742,383,642 seconds\n"
     ]
    }
   ],
   "source": [
    "from datetime import datetime,date\n",
    "\n",
    "now = datetime.now()\n",
    "\n",
    "epoch = datetime(1970, 1, 1)\n",
    "\n",
    "time_difference = now - epoch \n",
    "\n",
    "days = time_difference.days\n",
    "seconds = time_difference.seconds\n",
    "total_seconds = time_difference.total_seconds()\n",
    "\n",
    "print(f\"Time since 1 January 1970:\")\n",
    "print(f\"  {days} days\")\n",
    "print(f\"  {days // 365} years (approx)\")\n",
    "print(f\"  {int(total_seconds):,} seconds\")\n",
    "\n",
    "\n"
   ]
  }
 ],
 "metadata": {
  "kernelspec": {
   "display_name": "Python 3",
   "language": "python",
   "name": "python3"
  },
  "language_info": {
   "codemirror_mode": {
    "name": "ipython",
    "version": 3
   },
   "file_extension": ".py",
   "mimetype": "text/x-python",
   "name": "python",
   "nbconvert_exporter": "python",
   "pygments_lexer": "ipython3",
   "version": "3.11.9"
  }
 },
 "nbformat": 4,
 "nbformat_minor": 2
}
