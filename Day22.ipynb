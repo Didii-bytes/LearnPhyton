{
 "cells": [
  {
   "cell_type": "markdown",
   "metadata": {},
   "source": [
    "1. Scrape the following website and store the data as json file(url = 'http://www.bu.edu/president/boston-university-facts-stats/')."
   ]
  },
  {
   "cell_type": "code",
   "execution_count": 6,
   "metadata": {},
   "outputs": [
    {
     "name": "stdout",
     "output_type": "stream",
     "text": [
      "Data has been saved to bu_facts.json\n"
     ]
    }
   ],
   "source": [
    "import requests\n",
    "from bs4 import BeautifulSoup\n",
    "import json\n",
    "\n",
    "def scrape_bu_facts(url):\n",
    "    # Send a GET request to the website\n",
    "    response = requests.get(url)\n",
    "    \n",
    "    if response.status_code != 200:\n",
    "        print(f\"Failed to retrieve the page. Status code: {response.status_code}\")\n",
    "        return\n",
    "    \n",
    "    # Parse the HTML content\n",
    "    soup = BeautifulSoup(response.text, 'html.parser')\n",
    "    \n",
    "    # Extract relevant data\n",
    "    data = {}\n",
    "    sections = soup.find_all(['h2', 'h3', 'p', 'li'])  # Extracting headings, paragraphs, and list items\n",
    "    \n",
    "    for section in sections:\n",
    "        tag_name = section.name\n",
    "        content = section.text.strip()\n",
    "        \n",
    "        if tag_name not in data:\n",
    "            data[tag_name] = []\n",
    "        data[tag_name].append(content)\n",
    "    \n",
    "    # Save data to a JSON file\n",
    "    with open('bu_facts.json', 'w', encoding='utf-8') as json_file:\n",
    "        json.dump(data, json_file, indent=4, ensure_ascii=False)\n",
    "    \n",
    "    print(\"Data has been saved to bu_facts.json\")\n",
    "\n",
    "# URL to scrape\n",
    "url = 'http://www.bu.edu/president/boston-university-facts-stats/'\n",
    "scrape_bu_facts(url)\n"
   ]
  },
  {
   "cell_type": "markdown",
   "metadata": {},
   "source": [
    "2. Extract the table in this url (https://archive.ics.uci.edu/ml/datasets.php) and change it to a json file"
   ]
  },
  {
   "cell_type": "code",
   "execution_count": 11,
   "metadata": {},
   "outputs": [
    {
     "name": "stdout",
     "output_type": "stream",
     "text": [
      "Failed to retrieve the page. Status code: 404\n"
     ]
    }
   ],
   "source": [
    "import requests\n",
    "from bs4 import BeautifulSoup\n",
    "import json\n",
    "\n",
    "def scrape_uci_table(url):\n",
    "    # Send a GET request to the website\n",
    "    response = requests.get(url)\n",
    "    \n",
    "    if response.status_code != 200:\n",
    "        print(f\"Failed to retrieve the page. Status code: {response.status_code}\")\n",
    "        return\n",
    "    \n",
    "    # Parse the HTML content\n",
    "    soup = BeautifulSoup(response.text, 'html.parser')\n",
    "\n",
    "    tables = soup.find_all('table', {'cellpadding': '3'})  # Locate tables\n",
    "    if not tables:\n",
    "        print(\"No tables found!\")\n",
    "        return\n",
    "    \n",
    "    table_data = []\n",
    "    \n",
    "    # Extract table rows\n",
    "    for row in tables[0].find_all('tr')[1:]:  # Skip header row\n",
    "        columns = row.find_all('td')\n",
    "        row_data = [col.text.strip() for col in columns]\n",
    "        if row_data:\n",
    "            table_data.append(row_data)\n",
    "\n",
    "    # Save data to JSON\n",
    "    with open('uci_datasets.json', 'w', encoding='utf-8') as json_file:\n",
    "        json.dump(table_data, json_file, indent=4, ensure_ascii=False)\n",
    "    \n",
    "    print(\"Data has been saved to uci_datasets.json\")\n",
    "\n",
    "url = 'https://archive.ics.uci.edu/ml/datasets.php'\n",
    "scrape_uci_table(url)\n",
    "\n"
   ]
  },
  {
   "cell_type": "markdown",
   "metadata": {},
   "source": [
    "3. Scrape the presidents table and store the data as json(https://en.wikipedia.org/wiki/List_of_presidents_of_the_United_States). The table is not very structured and the scrapping may take very long time."
   ]
  }
 ],
 "metadata": {
  "kernelspec": {
   "display_name": "Python 3",
   "language": "python",
   "name": "python3"
  },
  "language_info": {
   "codemirror_mode": {
    "name": "ipython",
    "version": 3
   },
   "file_extension": ".py",
   "mimetype": "text/x-python",
   "name": "python",
   "nbconvert_exporter": "python",
   "pygments_lexer": "ipython3",
   "version": "3.11.9"
  }
 },
 "nbformat": 4,
 "nbformat_minor": 2
}
