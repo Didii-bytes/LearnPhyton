{
 "cells": [
  {
   "cell_type": "markdown",
   "metadata": {},
   "source": [
    "# Exercises: Level 1\n",
    "\n",
    "1. Get user input using input(“Enter your age: ”). If user is 18 or older, give feedback: You are old enough to drive. If below 18 give feedback to wait for the missing amount of years. Output:\n",
    "\n",
    "Enter your age: 30\n",
    "You are old enough to learn to drive.\n",
    "Output:\n",
    "Enter your age: 15\n",
    "You need 3 more years to learn to drive.\n"
   ]
  },
  {
   "cell_type": "code",
   "execution_count": 5,
   "metadata": {},
   "outputs": [
    {
     "name": "stdout",
     "output_type": "stream",
     "text": [
      "You are old enough to learn to drive.\n"
     ]
    }
   ],
   "source": [
    "Age=int(input(\"Enter your age: \"))\n",
    "if Age >= 18:\n",
    "    print(\"You are old enough to learn to drive.\")\n",
    "else:\n",
    "    yr=18-Age\n",
    "    drive_age='You need %d more years to learn to drive.'%(yr)\n",
    "    print(drive_age)\n",
    "\n"
   ]
  },
  {
   "cell_type": "markdown",
   "metadata": {},
   "source": [
    "2. Compare the values of my_age and your_age using if … else. Who is older (me or you)? Use input(“Enter your age: ”) to get the age as input. You can use a nested condition to print 'year' for 1 year difference in age, 'years' for bigger differences, and a custom text if my_age = your_age. Output:\n",
    "\n",
    "Enter your age: 30\n",
    "You are 5 years older than me."
   ]
  },
  {
   "cell_type": "code",
   "execution_count": 11,
   "metadata": {},
   "outputs": [
    {
     "name": "stdout",
     "output_type": "stream",
     "text": [
      "We are Peer\n"
     ]
    }
   ],
   "source": [
    "my_age=23\n",
    "your_age=int(input(\"Enter your Age: \"))\n",
    "age_diff=your_age-my_age\n",
    "if your_age > my_age:\n",
    "    if age_diff > 1:\n",
    "        print('You are %d years older than me' %(age_diff))\n",
    "    else:\n",
    "        print('You are %d year older than me' %(age_diff))\n",
    "elif your_age < my_age:\n",
    "    if age_diff < -1:\n",
    "        print('You are %d years younger than me' %(-age_diff))\n",
    "    else:\n",
    "        print('You are %d year younger than me' %(-age_diff))\n",
    "else:\n",
    "    print('We are Peer')\n"
   ]
  },
  {
   "cell_type": "markdown",
   "metadata": {},
   "source": [
    "3. Get two numbers from the user using input prompt. If a is greater than b return a is greater than b, if a is less b return a is smaller than b, else a is equal to b. Output:\n",
    "\n",
    "Enter number one: 4\n",
    "Enter number two: 3\n",
    "4 is greater than 3\n"
   ]
  },
  {
   "cell_type": "code",
   "execution_count": 15,
   "metadata": {},
   "outputs": [
    {
     "name": "stdout",
     "output_type": "stream",
     "text": [
      "2 is equal to 2\n"
     ]
    }
   ],
   "source": [
    "a=int(input(\"Enter number one:\"))\n",
    "b=int(input(\"Enter number two:\"))\n",
    "\n",
    "if a > b:\n",
    "    print(\"%d is greater than %d\" %(a,b))\n",
    "elif a < b:\n",
    "    print(\"%d is greater than %d\" %(b,a))\n",
    "else:\n",
    "    print(\"%d is equal to %d\" %(a,b))"
   ]
  },
  {
   "cell_type": "markdown",
   "metadata": {},
   "source": [
    "# Exercises: Level 2\n",
    "\n",
    "1. Write a code which gives grade to students according to theirs scores:\n",
    "\n",
    "80-100, A\n",
    "70-89, B\n",
    "60-69, C\n",
    "50-59, D\n",
    "0-49, F"
   ]
  },
  {
   "cell_type": "code",
   "execution_count": 22,
   "metadata": {},
   "outputs": [
    {
     "name": "stdout",
     "output_type": "stream",
     "text": [
      "Your grade is: A\n"
     ]
    }
   ],
   "source": [
    "score=int(input(\"Enter your exam score: \"))\n",
    "\n",
    "if 90 <= score <= 100:\n",
    "    Grade=\"A\"\n",
    "elif 70 <= score <=89:\n",
    "    Grade=\"B\"\n",
    "elif 60 <= score <= 69:\n",
    "    Grade=\"C\"\n",
    "elif 50 <= score <= 59:\n",
    "    Grade=\"D\"\n",
    "else:\n",
    "    Grade=\"F\"\n",
    "\n",
    "print(\"Your grade is: %s\" %(Grade))"
   ]
  },
  {
   "cell_type": "markdown",
   "metadata": {},
   "source": [
    "2. Check if the season is Autumn, Winter, Spring or Summer. If the user input is: September, October or November, the season is Autumn. December, January or February, the season is Winter. March, April or May, the season is Spring June, July or August, the season is Summer"
   ]
  },
  {
   "cell_type": "code",
   "execution_count": null,
   "metadata": {},
   "outputs": [
    {
     "name": "stdout",
     "output_type": "stream",
     "text": [
      "the season is Spring\n"
     ]
    }
   ],
   "source": [
    "Autumn=['September', 'October', 'November']\n",
    "Winter=['December', 'January', 'February']\n",
    "Spring=['March', 'April', 'May']\n",
    "Summer=['June', 'July' , 'August']\n",
    "\n",
    "Month=input(\"Enter Month to check the seasons: \")\n",
    "if Month in Autumn:\n",
    "    print(\"the season is Autumn\")\n",
    "elif Month in Winter:\n",
    "    print(\"the season is Winter\")\n",
    "elif Month in Spring:\n",
    "    print(\"the season is Spring\")\n",
    "else:\n",
    "    print(\"the season is Summer\")"
   ]
  },
  {
   "cell_type": "markdown",
   "metadata": {},
   "source": [
    "```sh\n",
    "fruits = ['banana', 'orange', 'mango', 'lemon']\n",
    "```\n",
    "\n",
    "2.If a fruit doesn't exist in the list add the fruit to the list and print the modified list. If the fruit exists print('That fruit already exist in the list')"
   ]
  },
  {
   "cell_type": "code",
   "execution_count": 4,
   "metadata": {},
   "outputs": [
    {
     "name": "stdout",
     "output_type": "stream",
     "text": [
      "['banana', 'orange', 'mango', 'lemon', 'watermelon']\n"
     ]
    }
   ],
   "source": [
    "fruits = ['banana', 'orange', 'mango', 'lemon']\n",
    "\n",
    "check_fruit = input(\"Enter your fruit: \") \n",
    "if check_fruit in fruits:\n",
    "    print('That fruit already exist in the list')\n",
    "else:\n",
    "    fruits.append(check_fruit)\n",
    "    print(fruits)"
   ]
  }
 ],
 "metadata": {
  "kernelspec": {
   "display_name": "Python 3",
   "language": "python",
   "name": "python3"
  },
  "language_info": {
   "codemirror_mode": {
    "name": "ipython",
    "version": 3
   },
   "file_extension": ".py",
   "mimetype": "text/x-python",
   "name": "python",
   "nbconvert_exporter": "python",
   "pygments_lexer": "ipython3",
   "version": "3.11.9"
  }
 },
 "nbformat": 4,
 "nbformat_minor": 2
}
