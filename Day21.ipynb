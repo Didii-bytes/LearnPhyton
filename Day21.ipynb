{
 "cells": [
  {
   "cell_type": "markdown",
   "metadata": {},
   "source": [
    "# Exercises: Level 1\n",
    "\n",
    "Python has the module called statistics and we can use this module to do all the statistical calculations. However, to learn how to make function and reuse function let us try to develop a program, which calculates the measure of central tendency of a sample (mean, median, mode) and measure of variability (range, variance, standard deviation). In addition to those measures, find the min, max, count, percentile, and frequency distribution of the sample. You can create a class called Statistics and create all the functions that do statistical calculations as methods for the Statistics class. Check the output below."
   ]
  },
  {
   "cell_type": "code",
   "execution_count": 8,
   "metadata": {},
   "outputs": [
    {
     "name": "stdout",
     "output_type": "stream",
     "text": [
      "Count: 25\n",
      "Sum:  744\n",
      "Min:  24\n",
      "Max:  38\n",
      "Range:  14\n",
      "Mean:  29.76\n",
      "Median:  29\n",
      "Mode:  {'mode': [26], 'count': 5}\n",
      "Standard Deviation:  4.2\n",
      "Variance:  17.5\n",
      "Frequency Distribution:  [(26, 5), (27, 4), (32, 3), (31, 2), (34, 2), (37, 2), (24, 2), (33, 2), (25, 1), (38, 1), (29, 1)]\n"
     ]
    }
   ],
   "source": [
    "from collections import Counter\n",
    "from math import sqrt\n",
    "\n",
    "class Statistics:\n",
    "    def __init__(self, data):\n",
    "        self.data = data\n",
    "\n",
    "    def count(self):\n",
    "        return len(self.data)\n",
    "\n",
    "    def sum(self):\n",
    "        total = 0\n",
    "        for num in self.data:\n",
    "            total += num\n",
    "        return total\n",
    "\n",
    "    def mean(self):\n",
    "        return self.sum() / self.count()\n",
    "\n",
    "    def median(self):\n",
    "        sorted_data = sorted(self.data)\n",
    "        n = len(sorted_data)\n",
    "        mid = n // 2\n",
    "        return sorted_data[mid] if n % 2 != 0 else (sorted_data[mid - 1] + sorted_data[mid]) / 2\n",
    "\n",
    "    def mode(self):\n",
    "        frequency = Counter(self.data)\n",
    "        mode_value = max(frequency.values())\n",
    "        return [key for key, value in frequency.items() if value == mode_value]\n",
    "\n",
    "    def data_range(self):\n",
    "        return max(self.data) - min(self.data)\n",
    "\n",
    "    def variance(self):\n",
    "        mean_value = self.mean()\n",
    "        return sum((x - mean_value) ** 2 for x in self.data) / len(self.data)\n",
    "\n",
    "    def standard_deviation(self):\n",
    "        return sqrt(self.variance())\n",
    "\n",
    "    def min_value(self):\n",
    "        return min(self.data)\n",
    "\n",
    "    def max_value(self):\n",
    "        return max(self.data)\n",
    "\n",
    "    def percentile(self, percentile_rank):\n",
    "        sorted_data = sorted(self.data)\n",
    "        k = (len(sorted_data) - 1) * (percentile_rank / 100)\n",
    "        f = int(k)\n",
    "        c = k - f\n",
    "        if f + 1 < len(sorted_data):\n",
    "            return sorted_data[f] + c * (sorted_data[f + 1] - sorted_data[f])\n",
    "        return sorted_data[f]\n",
    "\n",
    "    def frequency_distribution(self):\n",
    "        return dict(Counter(self.data))\n",
    "\n",
    "\n",
    "# Sample data\n",
    "ages = [31, 26, 34, 37, 27, 26, 32, 32, 26, 27, 27, 24, 32, 33, 27, 25, 26, 38, 37, 31, 34, 24, 33, 29, 26]\n",
    "\n",
    "# Create an instance of the Statistics class\n",
    "data = Statistics(ages)\n",
    "\n",
    "# Printing results\n",
    "print('Count:', data.count())  # 25\n",
    "print('Sum: ', data.sum())  # 744\n",
    "print('Min: ', data.min_value())  # 24\n",
    "print('Max: ', data.max_value())  # 38\n",
    "print('Range: ', data.data_range())  # 14\n",
    "print('Mean: ', data.mean())  # 30\n",
    "print('Median: ', data.median())  # 29\n",
    "print('Mode: ', {'mode': data.mode(), 'count': Counter(data.data)[data.mode()[0]]})  # {'mode': 26, 'count': 5}\n",
    "print('Standard Deviation: ', round(data.standard_deviation(), 1))  # 4.2\n",
    "print('Variance: ', round(data.variance(), 1))  # 17.5\n",
    "print('Frequency Distribution: ', sorted(data.frequency_distribution().items(), key=lambda x: x[1], reverse=True))\n"
   ]
  }
 ],
 "metadata": {
  "kernelspec": {
   "display_name": "Python 3",
   "language": "python",
   "name": "python3"
  },
  "language_info": {
   "codemirror_mode": {
    "name": "ipython",
    "version": 3
   },
   "file_extension": ".py",
   "mimetype": "text/x-python",
   "name": "python",
   "nbconvert_exporter": "python",
   "pygments_lexer": "ipython3",
   "version": "3.11.9"
  }
 },
 "nbformat": 4,
 "nbformat_minor": 2
}
