{
 "cells": [
  {
   "cell_type": "markdown",
   "metadata": {},
   "source": [
    "1. Create an empty tuple\n",
    "2. Create a tuple containing names of your sisters and your brothers (imaginary siblings are fine)\n",
    "3. Join brothers and sisters tuples and assign it to siblings\n",
    "4. How many siblings do you have?\n",
    "5. Modify the siblings tuple and add the name of your father and mother and assign it to family_members"
   ]
  },
  {
   "cell_type": "code",
   "execution_count": 10,
   "metadata": {},
   "outputs": [
    {
     "name": "stdout",
     "output_type": "stream",
     "text": [
      "('Sarah', 'Mawar')\n",
      "('Alex', 'Ahmad')\n",
      "('Sarah', 'Mawar', 'Alex', 'Ahmad')\n",
      "4\n",
      "('Mama', 'Daddy')\n",
      "('Sarah', 'Mawar', 'Alex', 'Ahmad', 'Mama', 'Daddy')\n"
     ]
    }
   ],
   "source": [
    "empty=()\n",
    "Sister=('Sarah','Mawar',)\n",
    "print(Sister)\n",
    "Brother=('Alex','Ahmad')\n",
    "print(Brother)\n",
    "Sibling= Sister + Brother\n",
    "print(Sibling)\n",
    "n=len(Sibling)\n",
    "print(n)\n",
    "Parent=(\"Mama\",\"Daddy\")\n",
    "print(Parent)\n",
    "Family=Sibling+Parent\n",
    "print(Family)"
   ]
  },
  {
   "cell_type": "markdown",
   "metadata": {},
   "source": [
    "# Exercises: Level 2\n",
    "1. Unpack siblings and parents from family_members\n",
    "2. Create fruits, vegetables and animal products tuples. Join the three tuples and assign it to a variable called food_stuff_tp.\n",
    "3. Change the about food_stuff_tp tuple to a food_stuff_lt list\n",
    "4. Slice out the middle item or items from the food_stuff_tp tuple or food_stuff_lt list.\n",
    "5. Slice out the first three items and the last three items from food_staff_lt list\n",
    "6. Delete the food_staff_tp tuple completely\n",
    "7. Check if an item exists in tuple:\n",
    "    nordic_countries = ('Denmark', 'Finland','Iceland', 'Norway', 'Sweden')\n",
    "        Check if 'Estonia' is a nordic country\n",
    "        Check if 'Iceland' is a nordic country"
   ]
  },
  {
   "cell_type": "code",
   "execution_count": 22,
   "metadata": {},
   "outputs": [
    {
     "name": "stdout",
     "output_type": "stream",
     "text": [
      "('Sarah', 'Mawar')\n",
      "('Alex', 'Ahmad')\n",
      "('Mama', 'Daddy')\n",
      "('Apple', 'Banana', 'Cherry', 'Durian', 'Asparagus', 'Brocolli', 'Carrot', 'Dill', 'Alligator', 'Bear', 'Cow', 'Dog')\n",
      "['Apple', 'Banana', 'Cherry', 'Durian', 'Asparagus', 'Brocolli', 'Carrot', 'Dill', 'Alligator', 'Bear', 'Cow', 'Dog']\n",
      "Carrot\n",
      "['Apple', 'Banana', 'Cherry']\n",
      "['Bear', 'Cow', 'Dog']\n",
      "False\n",
      "True\n"
     ]
    }
   ],
   "source": [
    "S=Family[0:2]\n",
    "B=Family[2:4]\n",
    "P=Family[4:]\n",
    "print(S)\n",
    "print(B)\n",
    "print(P)\n",
    "\n",
    "\n",
    "fruit=('Apple','Banana','Cherry','Durian')\n",
    "Vegetable=('Asparagus','Brocolli','Carrot','Dill')\n",
    "Animal=('Alligator','Bear','Cow','Dog')\n",
    "food_stuf_tp=fruit+Vegetable+Animal\n",
    "print(food_stuf_tp)\n",
    "food_stuf_lt=list(food_stuf_tp)\n",
    "print(food_stuf_lt)\n",
    "mid_item=food_stuf_lt[6]\n",
    "print(mid_item)\n",
    "first_3=food_stuf_lt[0:3]\n",
    "last_3=food_stuf_lt[-3:]\n",
    "print(first_3)\n",
    "print(last_3)\n",
    "del food_stuf_tp \n",
    "\n",
    "nordic_countries = ('Denmark', 'Finland','Iceland', 'Norway', 'Sweden')\n",
    "print('Estonia' in nordic_countries)\n",
    "print('Iceland' in nordic_countries)\n"
   ]
  }
 ],
 "metadata": {
  "kernelspec": {
   "display_name": "Python 3",
   "language": "python",
   "name": "python3"
  },
  "language_info": {
   "codemirror_mode": {
    "name": "ipython",
    "version": 3
   },
   "file_extension": ".py",
   "mimetype": "text/x-python",
   "name": "python",
   "nbconvert_exporter": "python",
   "pygments_lexer": "ipython3",
   "version": "3.11.9"
  }
 },
 "nbformat": 4,
 "nbformat_minor": 2
}
