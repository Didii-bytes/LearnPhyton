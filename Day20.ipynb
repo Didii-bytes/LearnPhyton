{
 "cells": [
  {
   "cell_type": "markdown",
   "metadata": {},
   "source": [
    "# Exercises: Day 20\n",
    "\n",
    "1. Read this url and find the 10 most frequent words. romeo_and_juliet = 'http://www.gutenberg.org/files/1112/1112.txt'"
   ]
  },
  {
   "cell_type": "code",
   "execution_count": null,
   "metadata": {},
   "outputs": [],
   "source": [
    "import requests\n",
    "import re\n",
    "from collections import Counter\n",
    "\n",
    "# URL of Romeo and Juliet\n",
    "url = 'http://www.gutenberg.org/files/1112/1112.txt'\n",
    "\n",
    "# Step 1: Get the text from the URL\n",
    "response = requests.get(url)\n",
    "text = response.text\n",
    "\n",
    "# Step 2: Clean the text\n",
    "# Remove punctuation and make lowercase\n",
    "cleaned_text = re.sub(r'[^\\w\\s]', '', text).lower()\n",
    "\n",
    "# Step 3: Split into words\n",
    "words = cleaned_text.split()\n",
    "\n",
    "# Step 4: Count frequency\n",
    "word_counts = Counter(words)\n",
    "\n",
    "# Step 5: Get 10 most common words\n",
    "most_common_words = word_counts.most_common(10)\n",
    "\n",
    "# Display result\n",
    "print(\"Top 10 most frequent words:\")\n",
    "for word, count in most_common_words:\n",
    "    print(f\"{word}: {count}\")\n"
   ]
  },
  {
   "cell_type": "markdown",
   "metadata": {},
   "source": [
    "Read the cats API and cats_api = 'https://api.thecatapi.com/v1/breeds' and find :\n",
    "a) the min, max, mean, median, standard deviation of cats' weight in metric units.\n",
    "b) the min, max, mean, median, standard deviation of cats' lifespan in years.\n",
    "c) Create a frequency table of country and breed of cats2. "
   ]
  },
  {
   "cell_type": "code",
   "execution_count": 4,
   "metadata": {},
   "outputs": [
    {
     "name": "stdout",
     "output_type": "stream",
     "text": [
      "Minimum Weight: 3.0 kg\n",
      "Maximum Weight: 7.5 kg\n",
      "Mean Weight: 4.71 kg\n",
      "Median Weight: 4.50 kg\n",
      "Standard Deviation: 1.06 kg\n"
     ]
    }
   ],
   "source": [
    "import requests\n",
    "import numpy as np  # Import numpy for numerical computations\n",
    "\n",
    "# Step 1: Fetch the data from the Cats API\n",
    "url = \"https://api.thecatapi.com/v1/breeds\"\n",
    "response = requests.get(url)\n",
    "\n",
    "# Step 2: Check if the request was successful\n",
    "if response.status_code == 200:\n",
    "    data = response.json()  # Parse the JSON response\n",
    "    \n",
    "    # Step 3: Extract and process weights in metric\n",
    "    weights = []\n",
    "    for breed in data:\n",
    "        metric_weight = breed.get(\"weight\", {}).get(\"metric\", None)\n",
    "        if metric_weight:\n",
    "            # Split the \"metric\" value (e.g., \"3 - 5\") into min and max\n",
    "            min_weight, max_weight = map(float, metric_weight.split(\" - \"))\n",
    "            # Calculate the average weight for this breed and add it to the list\n",
    "            average_weight = (min_weight + max_weight) / 2\n",
    "            weights.append(average_weight)\n",
    "    \n",
    "    # Step 4: Perform calculations using numpy\n",
    "    weights_array = np.array(weights)\n",
    "    min_weight = np.min(weights_array)\n",
    "    max_weight = np.max(weights_array)\n",
    "    mean_weight = np.mean(weights_array)\n",
    "    median_weight = np.median(weights_array)\n",
    "    std_dev_weight = np.std(weights_array)\n",
    "    \n",
    "    # Step 5: Print the results\n",
    "    print(f\"Minimum Weight: {min_weight} kg\")\n",
    "    print(f\"Maximum Weight: {max_weight} kg\")\n",
    "    print(f\"Mean Weight: {mean_weight:.2f} kg\")\n",
    "    print(f\"Median Weight: {median_weight:.2f} kg\")\n",
    "    print(f\"Standard Deviation: {std_dev_weight:.2f} kg\")\n",
    "else:\n",
    "    print(f\"Failed to fetch data. HTTP Status Code: {response.status_code}\")"
   ]
  },
  {
   "cell_type": "code",
   "execution_count": null,
   "metadata": {},
   "outputs": [
    {
     "name": "stdout",
     "output_type": "stream",
     "text": [
      "Minimum lifespan: 10.5 kg\n",
      "Maximum lifespan: 19.0 kg\n",
      "Mean lifespan: 13.75 kg\n",
      "Median lifespan: 13.50 kg\n",
      "Standard Deviation: 1.57 kg\n"
     ]
    }
   ],
   "source": [
    "import requests\n",
    "import numpy as np  \n",
    "\n",
    "\n",
    "url = \"https://api.thecatapi.com/v1/breeds\"\n",
    "response = requests.get(url)\n",
    "\n",
    "if response.status_code == 200:\n",
    "    data = response.json()  \n",
    "    \n",
    "    lifespan = []\n",
    "    for breed in data:\n",
    "        cat_lifespan = breed.get(\"life_span\", None)\n",
    "        if cat_lifespan:\n",
    "            min_lifespan, max_lifespan = map(float, cat_lifespan.split(\" - \"))\n",
    "            average_lifespan = (min_lifespan + max_lifespan) / 2\n",
    "            lifespan.append(average_lifespan)\n",
    "    \n",
    "    lifespan_array = np.array(lifespan)\n",
    "    min_lifespan= np.min(lifespan_array)\n",
    "    max_lifespan = np.max(lifespan_array)\n",
    "    mean_lifespan= np.mean(lifespan_array)\n",
    "    median_lifespan = np.median(lifespan_array)\n",
    "    std_dev_lifespan= np.std(lifespan_array)\n",
    "    \n",
    "    print(f\"Minimum lifespan: {min_lifespan} kg\")\n",
    "    print(f\"Maximum lifespan: {max_lifespan} kg\")\n",
    "    print(f\"Mean lifespan: {mean_lifespan:.2f} kg\")\n",
    "    print(f\"Median lifespan: {median_lifespan:.2f} kg\")\n",
    "    print(f\"Standard Deviation: {std_dev_lifespan:.2f} kg\")\n",
    "else:\n",
    "    print(f\"Failed to fetch data. HTTP Status Code: {response.status_code}\")"
   ]
  },
  {
   "cell_type": "markdown",
   "metadata": {},
   "source": [
    "3. Read the countries API and find\n",
    "\n",
    "a) the 10 largest countries\n",
    "b) the 10 most spoken languages\n",
    "c) the total number of languages in the countries API"
   ]
  },
  {
   "cell_type": "code",
   "execution_count": 18,
   "metadata": {},
   "outputs": [
    {
     "name": "stdout",
     "output_type": "stream",
     "text": [
      "Failed to fetch data. HTTP Status Code: 404\n"
     ]
    }
   ],
   "source": [
    "import requests\n",
    "from collections import Counter\n",
    "\n",
    "# Step 1: Fetch data from the Countries API\n",
    "url = \"https://restcountries.eu/rest/v2/all\"\n",
    "response = requests.get(url)\n",
    "\n",
    "if response.status_code == 200:\n",
    "    countries = response.json()  # Parse JSON response\n",
    "    \n",
    "    # Step 2: Find the 10 largest countries by area\n",
    "    largest_countries = sorted(countries, key=lambda x: x.get(\"area\", 0), reverse=True)[:10]\n",
    "    print(\"10 Largest Countries by Area:\")\n",
    "    for country in largest_countries:\n",
    "        print(f\"{country.get('name')} - {country.get('area', 'N/A')} km²\")\n",
    "    \n",
    "    # Step 3: Find the 10 most spoken languages\n",
    "    all_languages = [lang['name'] for country in countries for lang in country.get(\"languages\", [])]\n",
    "    language_counts = Counter(all_languages)\n",
    "    most_spoken_languages = language_counts.most_common(10)\n",
    "    print(\"\\n10 Most Spoken Languages:\")\n",
    "    for lang, count in most_spoken_languages:\n",
    "        print(f\"{lang} - Spoken in {count} countries\")\n",
    "    \n",
    "    # Step 4: Calculate the total number of unique languages\n",
    "    unique_languages = set(all_languages)\n",
    "    print(f\"\\nTotal Number of Unique Languages: {len(unique_languages)}\")\n",
    "else:\n",
    "    print(f\"Failed to fetch data. HTTP Status Code: {response.status_code}\")"
   ]
  }
 ],
 "metadata": {
  "kernelspec": {
   "display_name": "Python 3",
   "language": "python",
   "name": "python3"
  },
  "language_info": {
   "codemirror_mode": {
    "name": "ipython",
    "version": 3
   },
   "file_extension": ".py",
   "mimetype": "text/x-python",
   "name": "python",
   "nbconvert_exporter": "python",
   "pygments_lexer": "ipython3",
   "version": "3.11.9"
  }
 },
 "nbformat": 4,
 "nbformat_minor": 2
}
