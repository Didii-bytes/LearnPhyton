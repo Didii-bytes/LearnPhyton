{
 "cells": [
  {
   "cell_type": "markdown",
   "metadata": {},
   "source": [
    "1. Create an empty dictionary called dog\n",
    "2. Add name, color, breed, legs, age to the dog dictionary\n",
    "3. Create a student dictionary and add first_name, last_name, gender, age, marital status, skills,Country, city and address as keys for the dictionary\n",
    "5. Get the length of the student dictionary\n",
    "6. Get the value of skills and check the data type, it should be a list\n",
    "7. Modify the skills values by adding one or two skills\n",
    "8. Get the dictionary keys as a list\n",
    "9. Get the dictionary values as a list\n",
    "10. Change the dictionary to a list of tuples using items() method\n",
    "11. Delete one of the items in the dictionary\n",
    "12. Delete one of the dictionaries"
   ]
  },
  {
   "cell_type": "code",
   "execution_count": null,
   "metadata": {},
   "outputs": [
    {
     "name": "stdout",
     "output_type": "stream",
     "text": [
      "{'Name': 'Puppy', 'Breed': 'Alaskan', 'Legs': 4, 'Age': 2}\n",
      "{'first_name': 'Peter', 'last_name': 'Parker', 'gender': 'Male', 'Age': 18, 'maritial_status': 'Single', 'Country': 'Iceland', 'skills': ['JavaScript', 'React', 'Node', 'MongoDB', 'Python'], 'City': 'Marryland', 'address': {'street': 'Space street', 'zipcode': '02210'}}\n",
      "9\n",
      "<class 'list'>\n",
      "['JavaScript', 'React', 'Node', 'MongoDB', 'Python', 'machine learning', 'mathematics']\n",
      "dict_keys(['first_name', 'last_name', 'gender', 'Age', 'maritial_status', 'Country', 'skills', 'City', 'address'])\n",
      "dict_values(['Peter', 'Parker', 'Male', 18, 'Single', 'Iceland', ['JavaScript', 'React', 'Node', 'MongoDB', 'Python', 'machine learning', 'mathematics'], 'Marryland', {'street': 'Space street', 'zipcode': '02210'}])\n",
      "dict_items([('Name', 'Puppy'), ('Breed', 'Alaskan'), ('Legs', 4), ('Age', 2)])\n",
      "{'first_name': 'Peter', 'last_name': 'Parker', 'gender': 'Male', 'Age': 18, 'maritial_status': 'Single', 'Country': 'Iceland', 'skills': ['JavaScript', 'React', 'Node', 'MongoDB', 'Python', 'machine learning', 'mathematics'], 'address': {'street': 'Space street', 'zipcode': '02210'}}\n"
     ]
    }
   ],
   "source": [
    "empty_dict = {}\n",
    "dog_dict = { 'Name':'Puppy' , \n",
    "             'Breed':'Alaskan' ,\n",
    "             'Legs':4 ,\n",
    "             'Age':2}\n",
    "\n",
    "print(dog_dict)\n",
    "Student_dict={ 'first_name':'Peter',\n",
    "               'last_name':'Parker',\n",
    "               'gender':'Male',\n",
    "               'Age':18,\n",
    "               'maritial_status':'Single',\n",
    "               'Country':'Iceland',\n",
    "               'skills':['JavaScript', 'React', 'Node', 'MongoDB', 'Python'],\n",
    "               'City':'Marryland',\n",
    "               'address':{'street':'Space street',\n",
    "                          'zipcode':'02210'}}\n",
    "\n",
    "print(Student_dict)\n",
    "print(len(Student_dict))\n",
    "print(type(Student_dict['skills']))\n",
    "Student_dict['skills'].extend(['machine learning','mathematics'])\n",
    "print(Student_dict['skills'])\n",
    "keys=Student_dict.keys()\n",
    "print(keys)\n",
    "values=Student_dict.values()\n",
    "print(values)\n",
    "\n",
    "dog_lst=dog_dict.items()\n",
    "print(dog_lst)\n",
    "\n",
    "del Student_dict['City']\n",
    "print(Student_dict)\n",
    "\n",
    "del dog_dict\n"
   ]
  }
 ],
 "metadata": {
  "kernelspec": {
   "display_name": "Python 3",
   "language": "python",
   "name": "python3"
  },
  "language_info": {
   "codemirror_mode": {
    "name": "ipython",
    "version": 3
   },
   "file_extension": ".py",
   "mimetype": "text/x-python",
   "name": "python",
   "nbconvert_exporter": "python",
   "pygments_lexer": "ipython3",
   "version": "3.11.9"
  }
 },
 "nbformat": 4,
 "nbformat_minor": 2
}
