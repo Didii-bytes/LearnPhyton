{
 "cells": [
  {
   "cell_type": "markdown",
   "metadata": {},
   "source": [
    "# Exercises: Level 1\n",
    "\n",
    "1. What is the most frequent word in the following paragraph?\n",
    "\n",
    "paragraph = 'I love teaching. If you do not love teaching what else can you love. I love Python if you do not love something which can give you all the capabilities to develop an application what else can you love."
   ]
  },
  {
   "cell_type": "code",
   "execution_count": null,
   "metadata": {},
   "outputs": [
    {
     "name": "stdout",
     "output_type": "stream",
     "text": [
      "Counter({'love': 6, 'you': 5, 'can': 3, 'i': 2, 'teaching': 2, 'if': 2, 'do': 2, 'not': 2, 'what': 2, 'else': 2, 'python': 1, 'something': 1, 'which': 1, 'give': 1, 'all': 1, 'the': 1, 'capabilities': 1, 'to': 1, 'develop': 1, 'an': 1, 'application': 1})\n"
     ]
    }
   ],
   "source": [
    "import re\n",
    "from collections import Counter\n",
    "\n",
    "paragraph='I love teaching. If you do not love teaching what else can you love. I love Python if you do not love something which can give you all the capabilities to develop an application what else can you love.'\n",
    "\n",
    "words = re.findall(r'\\b\\w+\\b', paragraph.lower())\n",
    "word_counts = Counter(words)\n",
    "print(word_counts)\n"
   ]
  },
  {
   "cell_type": "markdown",
   "metadata": {},
   "source": [
    "2. The position of some particles on the horizontal x-axis are -12, -4, -3 and -1 in the negative direction, 0 at origin, 4 and 8 in the positive direction. Extract these numbers from this whole text and find the distance between the two furthest particles."
   ]
  },
  {
   "cell_type": "code",
   "execution_count": 5,
   "metadata": {},
   "outputs": [
    {
     "name": "stdout",
     "output_type": "stream",
     "text": [
      "['-12', '-4', '-3', '-1', '0', '4', '8']\n",
      "20\n"
     ]
    }
   ],
   "source": [
    "import re\n",
    "\n",
    "santence1='The position of some particles on the horizontal x-axis are -12, -4, -3 and -1 in the negative direction, 0 at origin, 4 and 8 in the positive direction. Extract these numbers from this whole text and find the distance between the two furthest particles'\n",
    "\n",
    "regex_pattern = r'-?\\d+'\n",
    "sorted_santence1=re.findall(regex_pattern, santence1)\n",
    "print(sorted_santence1)\n",
    "\n",
    "numbers = list(map(int, sorted_santence1))\n",
    "distance = max(numbers) - min(numbers)\n",
    "print(distance)\n",
    "\n"
   ]
  },
  {
   "cell_type": "markdown",
   "metadata": {},
   "source": [
    "# Exercises: Level 2\n",
    "\n",
    "1. Write a pattern which identifies if a string is a valid python variable\n",
    "\n",
    "is_valid_variable('first_name') # True\n",
    "is_valid_variable('first-name') # False\n",
    "is_valid_variable('1first_name') # False\n",
    "is_valid_variable('firstname') # True"
   ]
  },
  {
   "cell_type": "code",
   "execution_count": null,
   "metadata": {},
   "outputs": [
    {
     "name": "stdout",
     "output_type": "stream",
     "text": [
      "<re.Match object; span=(0, 10), match='first_name'>\n",
      "None\n"
     ]
    }
   ],
   "source": [
    "import re\n",
    "\n",
    "def is_valid_variable(variable_name):\n",
    "    pattern = r'^[a-zA-Z_]\\w*$'\n",
    "    return re.match(pattern,variable_name)\n",
    "\n",
    "print(is_valid_variable(\"first_name\"))\n",
    "print(is_valid_variable('first-name')) "
   ]
  },
  {
   "cell_type": "markdown",
   "metadata": {},
   "source": [
    "# Exercises: Level 3\n",
    "\n",
    "1. Clean the following text. After cleaning, count three most frequent words in the string."
   ]
  },
  {
   "cell_type": "code",
   "execution_count": 20,
   "metadata": {},
   "outputs": [
    {
     "name": "stdout",
     "output_type": "stream",
     "text": [
      "I am a teacher, and I love teaching. There is nothing as more rewarding as educating and empowering people. I found teaching more interesting than any other jobs. Does this motivate you to be a teacher!?\n",
      "[('love', 6), ('you', 5), ('can', 3)]\n"
     ]
    }
   ],
   "source": [
    "sentence = '''%I $am@% a %tea@cher%, &and& I lo%#ve %tea@ching%;. There $is nothing; &as& mo@re rewarding as educa@ting &and& @emp%o@wering peo@ple. ;I found tea@ching m%o@re interesting tha@n any other %jo@bs. %Do@es thi%s mo@tivate yo@u to be a tea@cher!?'''\n",
    "\n",
    "def clean_sentence(txt):\n",
    "    cleaned = re.sub(r'[%@$&#;]', '', txt)\n",
    "    return cleaned\n",
    "\n",
    "def count_most_common_words(txt):\n",
    "    clean_words = re.findall(r'\\b\\w+\\b', paragraph.lower())\n",
    "    word_counts = Counter(clean_words)\n",
    "    most_common = word_counts.most_common(3)\n",
    "    return most_common\n",
    "\n",
    "clean_text= clean_sentence(sentence)\n",
    "print(clean_text)\n",
    "print(count_most_common_words(clean_text))\n"
   ]
  }
 ],
 "metadata": {
  "kernelspec": {
   "display_name": "Python 3",
   "language": "python",
   "name": "python3"
  },
  "language_info": {
   "codemirror_mode": {
    "name": "ipython",
    "version": 3
   },
   "file_extension": ".py",
   "mimetype": "text/x-python",
   "name": "python",
   "nbconvert_exporter": "python",
   "pygments_lexer": "ipython3",
   "version": "3.11.9"
  }
 },
 "nbformat": 4,
 "nbformat_minor": 2
}
