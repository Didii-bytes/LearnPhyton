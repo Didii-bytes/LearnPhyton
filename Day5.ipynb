{
 "cells": [
  {
   "cell_type": "markdown",
   "metadata": {},
   "source": [
    "1. Declare an empty list"
   ]
  },
  {
   "cell_type": "code",
   "execution_count": 2,
   "metadata": {},
   "outputs": [
    {
     "name": "stdout",
     "output_type": "stream",
     "text": [
      "0\n"
     ]
    }
   ],
   "source": [
    "empty_list=[]\n",
    "print(len(empty_list))"
   ]
  },
  {
   "cell_type": "markdown",
   "metadata": {},
   "source": [
    "2. Declare a list with more than 5 items\n",
    "3. Find the length of your list\n",
    "4. Get the first item, the middle item and the last item of the list"
   ]
  },
  {
   "cell_type": "code",
   "execution_count": 7,
   "metadata": {},
   "outputs": [
    {
     "name": "stdout",
     "output_type": "stream",
     "text": [
      "5\n",
      "apple\n",
      "coconut\n",
      "lemon\n"
     ]
    }
   ],
   "source": [
    "item=['apple','banana','coconut','melon','lemon']\n",
    "print(len(item))\n",
    "first_item=item[0]\n",
    "mid_item=item[2]\n",
    "last_item=item[-1]\n",
    "print(\"%s\\n%s\\n%s\" %(first_item,mid_item,last_item))"
   ]
  },
  {
   "cell_type": "markdown",
   "metadata": {},
   "source": [
    "5. Declare a list called mixed_data_types, put your(name, age, height, marital status, address)"
   ]
  },
  {
   "cell_type": "code",
   "execution_count": 10,
   "metadata": {},
   "outputs": [
    {
     "name": "stdout",
     "output_type": "stream",
     "text": [
      "5\n",
      "Danial\n",
      "167\n"
     ]
    }
   ],
   "source": [
    "mixed_data_types=[\"Danial\",23,167,\"Single\",\"BatangKali\"]\n",
    "print(len(mixed_data_types))\n",
    "print(mixed_data_types[0])\n",
    "print(mixed_data_types[2])"
   ]
  },
  {
   "cell_type": "markdown",
   "metadata": {},
   "source": [
    "6. Declare a list variable named it_companies and assign initial values Facebook, Google, Microsoft, Apple, IBM, Oracle and Amazon.\n",
    "7. Print the list using print()\n",
    "8. Print the number of companies in the list\n",
    "9. Print the first, middle and last company\n",
    "10. Print the list after modifying one of the companies\n",
    "11. Add an IT company to it_companies\n",
    "12. Insert an IT company in the middle of the companies list\n",
    "13. Change one of the it_companies names to uppercase (IBM excluded!)\n"
   ]
  },
  {
   "cell_type": "code",
   "execution_count": 22,
   "metadata": {},
   "outputs": [
    {
     "name": "stdout",
     "output_type": "stream",
     "text": [
      "['Facebook', 'Google', 'Microsoft', 'Apple', 'IBM', 'Oracle', 'Amazon']\n",
      "7\n",
      "['Facebook', 'Google', 'Microsoft', 'Apple', 'OpenAI', 'Oracle', 'Amazon']\n",
      "['Facebook', 'Google', 'Microsoft', 'Apple', 'OpenAI', 'Oracle', 'Amazon', 'Maxis']\n",
      "['Facebook', 'Google', 'Microsoft', 'Apple', 'Oracle', 'OpenAI', 'Oracle', 'Amazon', 'Maxis']\n",
      "['Facebook', 'GOOGLE', 'Microsoft', 'Apple', 'Oracle', 'OpenAI', 'Oracle', 'Amazon', 'Maxis']\n"
     ]
    }
   ],
   "source": [
    "it_companies=[\"Facebook\",\"Google\",\"Microsoft\",\"Apple\",\"IBM\",\"Oracle\",\"Amazon\"]\n",
    "print(it_companies)\n",
    "print(len(it_companies))\n",
    "it_companies[4]=\"OpenAI\"\n",
    "print(it_companies)\n",
    "it_companies.append('Maxis')\n",
    "print(it_companies)\n",
    "it_companies.insert(4,'Oracle')\n",
    "print(it_companies)\n",
    "it_companies[1]=it_companies[1].upper()\n",
    "print(it_companies)"
   ]
  }
 ],
 "metadata": {
  "kernelspec": {
   "display_name": "Python 3",
   "language": "python",
   "name": "python3"
  },
  "language_info": {
   "codemirror_mode": {
    "name": "ipython",
    "version": 3
   },
   "file_extension": ".py",
   "mimetype": "text/x-python",
   "name": "python",
   "nbconvert_exporter": "python",
   "pygments_lexer": "ipython3",
   "version": "3.11.9"
  }
 },
 "nbformat": 4,
 "nbformat_minor": 2
}
