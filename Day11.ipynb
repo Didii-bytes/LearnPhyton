{
 "cells": [
  {
   "cell_type": "markdown",
   "metadata": {},
   "source": [
    "# Exercises: Level 1\n",
    "\n",
    "1. Declare a function add_two_numbers. It takes two parameters and it returns a sum."
   ]
  },
  {
   "cell_type": "code",
   "execution_count": 2,
   "metadata": {},
   "outputs": [
    {
     "name": "stdout",
     "output_type": "stream",
     "text": [
      "4\n"
     ]
    }
   ],
   "source": [
    "def add_two_numbers(a,b):\n",
    "    sum = a + b\n",
    "    return(sum)\n",
    "\n",
    "print(add_two_numbers(2,2))"
   ]
  },
  {
   "cell_type": "markdown",
   "metadata": {},
   "source": [
    "2. Area of a circle is calculated as follows: area = π x r x r. Write a function that calculates area_of_circle"
   ]
  },
  {
   "cell_type": "code",
   "execution_count": 3,
   "metadata": {},
   "outputs": [
    {
     "name": "stdout",
     "output_type": "stream",
     "text": [
      "78.55\n"
     ]
    }
   ],
   "source": [
    "def area_of_circle(r):\n",
    "    area = 3.142 * r * r\n",
    "    return area\n",
    "\n",
    "print(area_of_circle(5))\n"
   ]
  },
  {
   "cell_type": "markdown",
   "metadata": {},
   "source": [
    "4. Write a function called add_all_nums which takes arbitrary number of arguments and sums all the arguments. Check if all the list items are number types. If not do give a reasonable feedback."
   ]
  },
  {
   "cell_type": "code",
   "execution_count": 16,
   "metadata": {},
   "outputs": [
    {
     "name": "stdout",
     "output_type": "stream",
     "text": [
      "14\n"
     ]
    }
   ],
   "source": [
    "\n",
    "def add_all_nums(*nums):\n",
    "    total=0\n",
    "    for num in nums:\n",
    "        if not isinstance(num, (int, float)):\n",
    "            return \"All arguments must be numbers\"\n",
    "        total = num + total\n",
    "    return total\n",
    "\n",
    "print(add_all_nums(2,3,4,5))"
   ]
  },
  {
   "cell_type": "markdown",
   "metadata": {},
   "source": [
    "4. Temperature in °C can be converted to °F using this formula: °F = (°C x 9/5) + 32. Write a function which converts °C to °F, convert_celsius_to-fahrenheit."
   ]
  },
  {
   "cell_type": "code",
   "execution_count": 26,
   "metadata": {},
   "outputs": [
    {
     "name": "stdout",
     "output_type": "stream",
     "text": [
      " 212°F\n"
     ]
    }
   ],
   "source": [
    "def convert_celsius_to_fahrenheit(c):\n",
    "    f = (c * (9/5)) + 32\n",
    "    return(f)\n",
    "\n",
    "print(\" %d°F\" %(convert_celsius_to_fahrenheit(100),))"
   ]
  },
  {
   "cell_type": "markdown",
   "metadata": {},
   "source": [
    "5. Write a function called check-season, it takes a month parameter and returns the season: Autumn, Winter, Spring or Summer."
   ]
  },
  {
   "cell_type": "code",
   "execution_count": 28,
   "metadata": {},
   "outputs": [
    {
     "name": "stdout",
     "output_type": "stream",
     "text": [
      "The seasons is winter\n",
      "The seasons is Spring\n",
      "The seasons is Summer\n",
      "The seasons is Autumn\n"
     ]
    }
   ],
   "source": [
    "def check_season(month):\n",
    "    spring = [\"March\", \"April\", \"May\"]\n",
    "    summer = [\"June\", \"July\", \"August\"]\n",
    "    autumn = [\"September\", \"October\", \"November\"]\n",
    "    winter = [\"December\", \"January\", \"February\"]\n",
    "    if month in spring:\n",
    "        print(\"The seasons is Spring\")\n",
    "    elif month in summer:\n",
    "        print(\"The seasons is Summer\")\n",
    "    elif month in autumn:\n",
    "        print(\"The seasons is Autumn\")\n",
    "    else:\n",
    "        print(\"The seasons is winter\")\n",
    "\n",
    "check_season('January')\n",
    "check_season('April')\n",
    "check_season('July')\n",
    "check_season('October')"
   ]
  },
  {
   "cell_type": "markdown",
   "metadata": {},
   "source": [
    "6. Write a function called calculate_slope which return the slope of a linear equation"
   ]
  },
  {
   "cell_type": "code",
   "execution_count": 29,
   "metadata": {},
   "outputs": [
    {
     "name": "stdout",
     "output_type": "stream",
     "text": [
      "1.0\n"
     ]
    }
   ],
   "source": [
    "def calculate_slope(x1,y1,x2,y2):\n",
    "    slope = (y2 - y1) / (x2 - x1)\n",
    "    return slope\n",
    "\n",
    "print(calculate_slope(2,3,6,7))"
   ]
  },
  {
   "cell_type": "markdown",
   "metadata": {},
   "source": [
    "7. Quadratic equation is calculated as follows: ax² + bx + c = 0 Write a function which calculates solution set of a quadratic equation   , solve_quadratic_eqn."
   ]
  },
  {
   "cell_type": "code",
   "execution_count": 36,
   "metadata": {},
   "outputs": [
    {
     "name": "stdout",
     "output_type": "stream",
     "text": [
      "The equation has no real solutions\n"
     ]
    }
   ],
   "source": [
    "\n",
    "def solve_quadratic_eqn(a,b,c):\n",
    "    discriminant= b**2 - 4*a*c\n",
    "    if discriminant < 0:\n",
    "        return \"The equation has no real solutions\"\n",
    "    elif discriminant == 0:\n",
    "        x = -b / (2*a)\n",
    "        return f\"The equation has one solution: x = {x}\"\n",
    "    else:\n",
    "        x1 = (-b + (discriminant)**(1/2)) / (2*a)\n",
    "        x2 = (-b - (discriminant)**(1/2)) / (2*a)\n",
    "        return f\"The equation has two solutions: x1 = {x1}, x2 = {x2}\"\n",
    "\n",
    "a = 1\n",
    "b = 2\n",
    "c = 5\n",
    "print(solve_quadratic_eqn(a, b, c))\n"
   ]
  },
  {
   "cell_type": "code",
   "execution_count": null,
   "metadata": {},
   "outputs": [],
   "source": []
  }
 ],
 "metadata": {
  "kernelspec": {
   "display_name": "Python 3",
   "language": "python",
   "name": "python3"
  },
  "language_info": {
   "codemirror_mode": {
    "name": "ipython",
    "version": 3
   },
   "file_extension": ".py",
   "mimetype": "text/x-python",
   "name": "python",
   "nbconvert_exporter": "python",
   "pygments_lexer": "ipython3",
   "version": "3.11.2"
  }
 },
 "nbformat": 4,
 "nbformat_minor": 2
}
