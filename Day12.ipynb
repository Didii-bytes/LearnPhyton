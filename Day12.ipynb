{
 "cells": [
  {
   "cell_type": "markdown",
   "metadata": {},
   "source": [
    "# Exercises: Level 1\n",
    "\n",
    "1. Write a function which generates a six digit/character random_user_id."
   ]
  },
  {
   "cell_type": "code",
   "execution_count": 6,
   "metadata": {},
   "outputs": [
    {
     "name": "stdout",
     "output_type": "stream",
     "text": [
      "NJiUvz\n"
     ]
    }
   ],
   "source": [
    "import string\n",
    "import random \n",
    "\n",
    "def random_user_id():\n",
    "    id=\"\".join(random.choices(string.ascii_letters+string.digits,k=6))\n",
    "    return id\n",
    "\n",
    "print(random_user_id())"
   ]
  },
  {
   "cell_type": "markdown",
   "metadata": {},
   "source": [
    "2. Modify the previous task. Declare a function named user_id_gen_by_user. It doesn’t take any parameters but it takes two inputs using input(). One of the inputs is the number of characters and the second input is the number of IDs which are supposed to be generated"
   ]
  },
  {
   "cell_type": "code",
   "execution_count": 13,
   "metadata": {},
   "outputs": [
    {
     "name": "stdout",
     "output_type": "stream",
     "text": [
      "\n",
      "Generated IDs:\n",
      "5HHYQY2q\n",
      "1MJ7x9HP\n",
      "PngeusKB\n"
     ]
    }
   ],
   "source": [
    "def user_id_gen_by_user():\n",
    "    numChar=int(input(\"Please Enter Number of Character in Id: \"))\n",
    "    numId=int(input(\"Please Enter How many Id to generate: \"))\n",
    "     \n",
    "    ids=[]\n",
    "    for i in range (numId):\n",
    "        user_id=\"\".join(random.choices(string.ascii_letters+string.digits,k=numChar))\n",
    "        ids.append(user_id)\n",
    "    return ids\n",
    "\n",
    "generated_ids = user_id_gen_by_user()\n",
    "print(\"\\nGenerated IDs:\")\n",
    "print(\"\\n\".join(generated_ids))"
   ]
  },
  {
   "cell_type": "markdown",
   "metadata": {},
   "source": [
    "3. Write a function named rgb_color_gen. It will generate rgb colors (3 values ranging from 0 to 255 each).\n",
    "\n",
    "print(rgb_color_gen())\n",
    "rgb(125,244,255) - the output should be in this form"
   ]
  },
  {
   "cell_type": "code",
   "execution_count": 18,
   "metadata": {},
   "outputs": [
    {
     "name": "stdout",
     "output_type": "stream",
     "text": [
      "rgb(130,65,114)\n"
     ]
    }
   ],
   "source": [
    "from random import random,randint\n",
    "def rgb_color_gen():\n",
    "    return f\"rgb({randint(0,255)},{randint(0,255)},{randint(0,255)})\"\n",
    "\n",
    "print(rgb_color_gen())"
   ]
  },
  {
   "cell_type": "markdown",
   "metadata": {},
   "source": [
    "# Exercises: Level 2\n",
    "\n",
    "1. Write a function list_of_hexa_colors which returns any number of hexadecimal colors in an array (six hexadecimal numbers written after #. Hexadecimal numeral system is made out of 16 symbols, 0-9 and first 6 letters of the alphabet, a-f. Check the task 6 for output examples)."
   ]
  },
  {
   "cell_type": "code",
   "execution_count": 29,
   "metadata": {},
   "outputs": [
    {
     "name": "stdout",
     "output_type": "stream",
     "text": [
      "#cD78f\n"
     ]
    }
   ],
   "source": [
    "import random\n",
    "import string \n",
    "\n",
    "def list_of_hexa_colors(numHexa):\n",
    "    color=\"\".join(random.choices(string.hexdigits,k=numHexa))\n",
    "    return f\"#{color}\"\n",
    "\n",
    "print(list_of_hexa_colors(5))"
   ]
  },
  {
   "cell_type": "markdown",
   "metadata": {},
   "source": [
    "2. Write a function list_of_rgb_colors which returns any number of RGB colors in an array."
   ]
  },
  {
   "cell_type": "code",
   "execution_count": 35,
   "metadata": {},
   "outputs": [
    {
     "name": "stdout",
     "output_type": "stream",
     "text": [
      "rgb(209,81,32)\n",
      "rgb(247,72,145)\n",
      "rgb(61,237,177)\n",
      "rgb(182,67,162)\n",
      "rgb(47,36,117)\n"
     ]
    }
   ],
   "source": [
    "import random\n",
    "\n",
    "def list_of_rgb_colors(numColor):\n",
    "    rgb_lst = []\n",
    "    for _ in range(numColor):\n",
    "        r = random.randint(0, 255)\n",
    "        g = random.randint(0, 255)\n",
    "        b = random.randint(0, 255)\n",
    "        # Format the color as a string: \"rgb(r,g,b)\"\n",
    "        rgb_lst.append(f\"rgb({r},{g},{b})\")\n",
    "    return rgb_lst\n",
    "\n",
    "rgb_list = list_of_rgb_colors(5)\n",
    "print(\"\\n\".join(rgb_list))\n"
   ]
  },
  {
   "cell_type": "markdown",
   "metadata": {},
   "source": [
    "3. Write a function generate_colors which can generate any number of hexa or rgb colors.\n",
    "\n",
    "generate_colors('hexa', 3) # ['#a3e12f','#03ed55','#eb3d2b'] \n",
    "generate_colors('hexa', 1) # ['#b334ef']\n",
    "generate_colors('rgb', 3)  # ['rgb(5, 55, 175','rgb(50, 105, 100','rgb(15, 26, 80'] \n",
    "generate_colors('rgb', 1)  # ['rgb(33,79, 176)']"
   ]
  },
  {
   "cell_type": "code",
   "execution_count": 42,
   "metadata": {},
   "outputs": [
    {
     "name": "stdout",
     "output_type": "stream",
     "text": [
      "['c7806c', 'FE78fB', 'D907a9']\n",
      "['CD95fB']\n",
      "['rgb(88,89,141)', 'rgb(252,163,5)', 'rgb(168,162,43)']\n",
      "['rgb(76,40,93)']\n"
     ]
    }
   ],
   "source": [
    "def generate_colors(StringType,StringLength):\n",
    "    if StringType == 'hexa':\n",
    "        hexa_lst=[]\n",
    "        for i in range(StringLength):\n",
    "            color=\"\".join(random.choices(string.hexdigits,k=6))\n",
    "            hexa_lst.append(color)\n",
    "        return f\"{hexa_lst}\"\n",
    "    elif StringType == 'rgb':\n",
    "        rgb_lst = []\n",
    "        for _ in range(StringLength):\n",
    "            r = random.randint(0, 255)\n",
    "            g = random.randint(0, 255)\n",
    "            b = random.randint(0, 255)\n",
    "            # Format the color as a string: \"rgb(r,g,b)\"\n",
    "            rgb_lst.append(f\"rgb({r},{g},{b})\")\n",
    "        return rgb_lst\n",
    "    else:\n",
    "        print(\"Please choose hexa or rgb only\")\n",
    "\n",
    "\n",
    "print(generate_colors('hexa', 3)) # ['#a3e12f','#03ed55','#eb3d2b'] \n",
    "print(generate_colors('hexa', 1)) # ['#b334ef']\n",
    "print(generate_colors('rgb', 3))  # ['rgb(5, 55, 175','rgb(50, 105, 100','rgb(15, 26, 80'] \n",
    "print(generate_colors('rgb', 1))  # ['rgb(33,79, 176)']\n"
   ]
  }
 ],
 "metadata": {
  "kernelspec": {
   "display_name": "Python 3",
   "language": "python",
   "name": "python3"
  },
  "language_info": {
   "codemirror_mode": {
    "name": "ipython",
    "version": 3
   },
   "file_extension": ".py",
   "mimetype": "text/x-python",
   "name": "python",
   "nbconvert_exporter": "python",
   "pygments_lexer": "ipython3",
   "version": "3.11.9"
  }
 },
 "nbformat": 4,
 "nbformat_minor": 2
}
