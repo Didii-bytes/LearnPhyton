{
 "cells": [
  {
   "cell_type": "markdown",
   "metadata": {},
   "source": [
    "1. names = ['Finland', 'Sweden', 'Norway','Denmark','Iceland', 'Estonia','Russia']. Unpack the first five countries and store them in a variable nordic_countries, store Estonia and Russia in es, and ru respectively."
   ]
  },
  {
   "cell_type": "code",
   "execution_count": 1,
   "metadata": {},
   "outputs": [
    {
     "name": "stdout",
     "output_type": "stream",
     "text": [
      "['Finland', 'Sweden', 'Norway', 'Denmark', 'Iceland'] Estonia Russia\n"
     ]
    }
   ],
   "source": [
    "names = ['Finland', 'Sweden', 'Norway','Denmark','Iceland', 'Estonia','Russia']\n",
    "*rest,es,rus = names \n",
    "print(rest,es,rus)"
   ]
  }
 ],
 "metadata": {
  "kernelspec": {
   "display_name": "Python 3",
   "language": "python",
   "name": "python3"
  },
  "language_info": {
   "codemirror_mode": {
    "name": "ipython",
    "version": 3
   },
   "file_extension": ".py",
   "mimetype": "text/x-python",
   "name": "python",
   "nbconvert_exporter": "python",
   "pygments_lexer": "ipython3",
   "version": "3.11.9"
  }
 },
 "nbformat": 4,
 "nbformat_minor": 2
}
