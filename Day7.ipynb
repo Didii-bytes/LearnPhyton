{
 "cells": [
  {
   "cell_type": "markdown",
   "metadata": {},
   "source": [
    "# Exercises: Level 1\n",
    "\n",
    "# sets\n",
    "it_companies = {'Facebook', 'Google', 'Microsoft', 'Apple', 'IBM', 'Oracle', 'Amazon'}\n",
    "\n",
    "1. Find the length of the set it_companies\n",
    "2. Add 'Twitter' to it_companies\n",
    "3. Insert multiple IT companies at once to the set it_companies\n",
    "4. Remove one of the companies from the set it_companies\n",
    "5. What is the difference between remove and discard"
   ]
  },
  {
   "cell_type": "code",
   "execution_count": 4,
   "metadata": {},
   "outputs": [
    {
     "name": "stdout",
     "output_type": "stream",
     "text": [
      "Lenght of it_companies sets is: 7\n",
      "{'Facebook', 'Microsoft', 'Oracle', 'Twitter', 'Google', 'Amazon', 'Apple', 'IBM'}\n",
      "{'IBM', 'Amazon', 'Google', 'Facebook', 'Microsoft', 'Apple', 'Twitter', 'Deepseek', 'Meta', 'Oracle'}\n",
      "{'IBM', 'Amazon', 'Google', 'Facebook', 'Microsoft', 'Apple', 'Twitter', 'Deepseek', 'Meta'}\n"
     ]
    }
   ],
   "source": [
    "it_companies = {'Facebook', 'Google', 'Microsoft', 'Apple', 'IBM', 'Oracle', 'Amazon'}\n",
    "A = {19, 22, 24, 20, 25, 26}\n",
    "B = {19, 22, 20, 25, 26, 24, 28, 27}\n",
    "age = [22, 19, 24, 25, 26, 24, 25, 24]\n",
    "\n",
    "lenght_company=len(it_companies)\n",
    "print(\"Lenght of it_companies sets is: %d\" %(lenght_company))\n",
    "it_companies.add('Twitter')\n",
    "print(it_companies)\n",
    "it_companies.update(['Meta','Deepseek'])\n",
    "print(it_companies)\n",
    "it_companies.remove('Oracle')\n",
    "print(it_companies)"
   ]
  },
  {
   "cell_type": "markdown",
   "metadata": {},
   "source": [
    "# Exercises: Level 2\n",
    "\n",
    "A = {19, 22, 24, 20, 25, 26}\n",
    "B = {19, 22, 20, 25, 26, 24, 28, 27}\n",
    "\n",
    "1. Join A and B\n",
    "2. Find A intersection B\n",
    "3. Is A subset of B\n",
    "4. Are A and B disjoint sets\n",
    "5. Join A with B and B with A\n",
    "6. What is the symmetric difference between A and B\n",
    "7. Delete the sets completely"
   ]
  },
  {
   "cell_type": "code",
   "execution_count": null,
   "metadata": {},
   "outputs": [
    {
     "name": "stdout",
     "output_type": "stream",
     "text": [
      "{19, 20, 22, 24, 25, 26, 27, 28}\n",
      "{19, 20, 22, 24, 25, 26}\n",
      "True\n",
      "False\n",
      "{19, 20, 22, 24, 25, 26, 27, 28}\n",
      "{19, 20, 22, 24, 25, 26, 27, 28}\n",
      "{27, 28}\n"
     ]
    }
   ],
   "source": [
    "A = {19, 22, 24, 20, 25, 26}\n",
    "B = {19, 22, 20, 25, 26, 24, 28, 27}\n",
    "\n",
    "A_joined_B=A.union(B)\n",
    "print(A_joined_B)\n",
    "\n",
    "A_intersection_B = A.intersection(B)\n",
    "print(A_intersection_B)\n",
    "\n",
    "is_subset = A.issubset(B)\n",
    "print(is_subset)\n",
    "\n",
    "are_disjoint = A.isdisjoint(B)\n",
    "print(are_disjoint)\n",
    "\n",
    "A_union_B = A.union(B)\n",
    "B_union_A = B.union(A)\n",
    "print(A_union_B)\n",
    "print(B_union_A)\n",
    "\n",
    "sym_diff = A.symmetric_difference(B)\n",
    "print(sym_diff)\n",
    "\n",
    "del A\n",
    "del B"
   ]
  },
  {
   "cell_type": "markdown",
   "metadata": {},
   "source": [
    "# Exercises: Level 3\n",
    "\n",
    "age = [22, 19, 24, 25, 26, 24, 25, 24]\n",
    "\n",
    "1. Convert the ages to a set and compare the length of the list and the set, which one is bigger?\n",
    "2. Explain the difference between the following data types: string, list, tuple and set\n",
    "3. I am a teacher and I love to inspire and teach people. How many unique words have been used in the sentence? Use the split methods and set to get the unique words."
   ]
  },
  {
   "cell_type": "code",
   "execution_count": 23,
   "metadata": {},
   "outputs": [
    {
     "name": "stdout",
     "output_type": "stream",
     "text": [
      "True\n",
      "['I', 'am', 'a', 'teacher', 'and', 'I', 'love', 'to', 'inspire', 'and', 'teach', 'people.']\n",
      "10\n"
     ]
    }
   ],
   "source": [
    "age = [22, 19, 24, 25, 26, 24, 25, 24]\n",
    "age_set=set(age)\n",
    "len_lt=len(age)\n",
    "len_st=len(age_set)\n",
    "compare=len_lt > len_st\n",
    "print(compare)\n",
    "\n",
    "2. \n",
    "\n",
    "sentence=\"I am a teacher and I love to inspire and teach people.\"\n",
    "words=sentence.split()\n",
    "print(words)\n",
    "unique_words=set(words)\n",
    "num_unique_words=len(unique_words)\n",
    "print(num_unique_words)\n"
   ]
  }
 ],
 "metadata": {
  "kernelspec": {
   "display_name": "Python 3",
   "language": "python",
   "name": "python3"
  },
  "language_info": {
   "codemirror_mode": {
    "name": "ipython",
    "version": 3
   },
   "file_extension": ".py",
   "mimetype": "text/x-python",
   "name": "python",
   "nbconvert_exporter": "python",
   "pygments_lexer": "ipython3",
   "version": "3.11.9"
  }
 },
 "nbformat": 4,
 "nbformat_minor": 2
}
